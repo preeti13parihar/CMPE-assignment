{
  "nbformat": 4,
  "nbformat_minor": 0,
  "metadata": {
    "colab": {
      "name": "Adaboost-algo-from-scratch.ipynb",
      "provenance": [],
      "collapsed_sections": []
    },
    "kernelspec": {
      "name": "python3",
      "display_name": "Python 3"
    },
    "language_info": {
      "name": "python"
    }
  },
  "cells": [
    {
      "cell_type": "markdown",
      "source": [
        "# AdaBoost algorithm from scratch\n",
        "\n",
        "AdaBoost algorithm, short for Adaptive Boosting, is a Boosting technique used as an Ensemble Method in Machine Learning. It is called Adaptive Boosting as the weights are re-assigned to each instance, with higher weights assigned to incorrectly classified instances. Boosting is used to reduce bias as well as variance for supervised learning. It works on the principle of learners growing sequentially. Except for the first, each subsequent learner is grown from previously grown learners. In simple words, weak learners are converted into strong ones. The AdaBoost algorithm works on the same principle as boosting with a slight difference. "
      ],
      "metadata": {
        "id": "oQwY1E9EYI-a"
      }
    },
    {
      "cell_type": "code",
      "execution_count": 1,
      "metadata": {
        "id": "RDHRlzc1V9GW"
      },
      "outputs": [],
      "source": [
        "from sklearn.datasets import make_classification\n",
        "\n",
        "from sklearn.metrics import accuracy_score\n",
        "from sklearn.model_selection import train_test_split\n",
        "import numpy as np\n",
        "import pandas as pd\n",
        "import matplotlib.pyplot as plt\n",
        "from sklearn.base import clone\n",
        "from sklearn.base import BaseEstimator\n",
        "from sklearn.metrics import accuracy_score\n",
        "from sklearn.datasets import load_breast_cancer\n",
        "from sklearn.decomposition import PCA"
      ]
    },
    {
      "cell_type": "code",
      "source": [
        "def accuracy(y_true, y_pred):\n",
        "    accuracy = np.sum(y_true == y_pred) / len(y_true)\n",
        "    return accuracy"
      ],
      "metadata": {
        "id": "3LuJo_KbWGeD"
      },
      "execution_count": 2,
      "outputs": []
    },
    {
      "cell_type": "code",
      "source": [
        "from sklearn.base import BaseEstimator\n",
        "\n",
        "\n",
        "class Logistic_Regression(BaseEstimator):\n",
        "    \n",
        "    def __init__(self, learning_rate=0.01, epochs=1000):\n",
        "        self.learning_rate = learning_rate\n",
        "        self.epochs = epochs\n",
        "        self.weights = None\n",
        "        self.bias = None\n",
        "        self.cost_per_iteration = []\n",
        "        \n",
        "    \n",
        "    def _sigmoid(self, x):\n",
        "        EPS = 1e-7\n",
        "        return 1 / (1 + np.exp(-x + EPS))\n",
        "    \n",
        "    \n",
        "    def fit(self, X, y):\n",
        "        m, n = X.shape\n",
        "        self.weights = np.zeros(n)\n",
        "        self.bias = 0\n",
        "        \n",
        "        # gradient descent\n",
        "\n",
        "        for _ in range(self.epochs):\n",
        "            # forward propagation\n",
        "            Z = np.dot(X, self.weights) + self.bias\n",
        "            A = self._sigmoid(Z)\n",
        "            \n",
        "            # backward propagation\n",
        "            dw = (1 / m) * np.dot(X.T, A - y)\n",
        "            db = (1 / m) * np.sum(A - y)\n",
        "            \n",
        "            self.weights -= self.learning_rate * dw\n",
        "            self.bias -= self.learning_rate * db\n",
        "            \n",
        "    def predict(self, X):\n",
        "        Z = np.dot(X, self.weights) + self.bias\n",
        "        A = self._sigmoid(Z)\n",
        "    \n",
        "        if not isinstance(A, float):\n",
        "            y_predicted_cls = [1 if i >= 0.5 else 0 for i in A]\n",
        "        else:\n",
        "            y_predicted_cls = 1 if A >= 0.5 else 0\n",
        "        return y_predicted_cls\n",
        "    \n",
        "    \n",
        "    def __str__(self):\n",
        "        return f\"Logistic_Regression(learning_rate={self.learning_rate}, epochs={self.epochs})\""
      ],
      "metadata": {
        "id": "a4HbZWByWKWP"
      },
      "execution_count": 3,
      "outputs": []
    },
    {
      "cell_type": "code",
      "source": [
        "class AdaBoost(object):\n",
        "    \n",
        "    def __init__(self, base_estimator, n_estimators, learning_rate):\n",
        "        self.base_estimator = base_estimator\n",
        "        self.n_estimators = n_estimators\n",
        "        self.learning_rate = learning_rate\n",
        "        self.predictor_weightages = []\n",
        "        \n",
        "        \n",
        "    def fit(self, X, y):\n",
        "        n_samples, n_features = X.shape\n",
        "        \n",
        "        for i in range(self.n_estimators):\n",
        "\n",
        "            # initially all instances have the same weight\n",
        "            instance_weights = self._initial_instance_weights(n_samples)\n",
        "            \n",
        "            # Use predictor to make classification error\n",
        "            clone_clf = clone(self.base_estimator)\n",
        "            clone_clf.fit(X, y)\n",
        "            predicted = clone_clf.predict(X)\n",
        "            \n",
        "            # getting misclassified instances\n",
        "            mis_classified_instances, acc = self._getAccuracy(y, predicted)\n",
        "            \n",
        "            # total error made by the predictor\n",
        "            total_err = self._total_error(mis_classified_instances, instance_weights)\n",
        "            \n",
        "            # weightage of predictor based on its error\n",
        "            predictor_weightage = self._get_predictor_weightage(total_err)\n",
        "            self.predictor_weightages.append((i, clone_clf, predictor_weightage))\n",
        "            \n",
        "            # updating instance weights\n",
        "            instance_weights = self._update_instance_weights(mis_classified_instances, \n",
        "                                                             instance_weights, predictor_weightage)\n",
        "\n",
        "            \n",
        "            # sampling data with replacement focusing on instances that were misclassified\n",
        "            X, y = self._new_sample_set(X, y, instance_weights)\n",
        "\n",
        "    \n",
        "\n",
        "    def _initial_instance_weights(self, shape):\n",
        "        instance_weights = np.full(shape=shape, fill_value=1/shape)\n",
        "        return instance_weights\n",
        "    \n",
        "    \n",
        "    def _getAccuracy(self, true, predicted):\n",
        "        assert len(true) == len(predicted)\n",
        "        error_instance = np.equal(true, predicted).astype(int)\n",
        "        miss_classified = []\n",
        "\n",
        "        for i, j in enumerate(error_instance):\n",
        "            if j == 0:\n",
        "                miss_classified.append(i)\n",
        "                \n",
        "        accuracy = np.sum(true == predicted)\n",
        "        return miss_classified, (accuracy/len(true)) * 100.0\n",
        "    \n",
        "    \n",
        "    def _total_error(self, mis_classified, instance_weights):\n",
        "        error = 0\n",
        "        for i in mis_classified:\n",
        "            error += instance_weights[i]\n",
        "\n",
        "        return error\n",
        "    \n",
        "    def _get_predictor_weightage(self, error):\n",
        "        EPS = 1e-5\n",
        "        weightage = 0.5 * np.log((1.0 - error + EPS) / (error + EPS))\n",
        "        return weightage\n",
        "\n",
        "    \n",
        "    def _update_instance_weights(self, mis_classified_instances, instance_weights, predictor_weightage):\n",
        "        weights = instance_weights[:]\n",
        "        EPS = 1e-10\n",
        "        for idx in range(len(instance_weights)):\n",
        "            if idx in mis_classified_instances:\n",
        "                weights[idx] = weights[idx] * np.exp(predictor_weightage + EPS)\n",
        "            else:\n",
        "                weights[idx] = weights[idx] * np.exp(-predictor_weightage + EPS)\n",
        "\n",
        "\n",
        "        # Normalizing weights\n",
        "        summed_weights = np.sum(weights)\n",
        "        weights /= summed_weights\n",
        "        return np.array(weights)\n",
        "    \n",
        "    def _new_sample_set(self, X, y, instance_weights):\n",
        "        intervals = []\n",
        "        intervals.append(instance_weights[0])\n",
        "\n",
        "        for i, j in enumerate(instance_weights[1:], 1):\n",
        "            intervals.append(j + intervals[i-1])\n",
        "\n",
        "        idxs = []\n",
        "\n",
        "        for i in range(X.shape[0]):\n",
        "            samp = np.random.sample()\n",
        "            try:\n",
        "                idx = np.searchsorted(intervals, samp, side='right')\n",
        "                _ = X[idx] # check if exists\n",
        "            except:\n",
        "                idx = idx - 1\n",
        "\n",
        "            finally:\n",
        "                idxs.append(idx)\n",
        "\n",
        "        X = X[idxs]\n",
        "        y = y[idxs]\n",
        "        return X, y\n",
        "    \n",
        "    def predict(self, X):\n",
        "        clf_predictions = np.array([clf.predict(X) for idx, clf, weightage in self.predictor_weightages])\n",
        "        predictions = []\n",
        "        \n",
        "        for sample_predictions in clf_predictions.T:\n",
        "            class_0 = 0\n",
        "            class_1 = 0\n",
        "            \n",
        "            for predictor, predictor_op in enumerate(sample_predictions):\n",
        "                if predictor_op == 0:\n",
        "                    class_0 += self.predictor_weightages[predictor][2]\n",
        "                else:\n",
        "                    class_1 += self.predictor_weightages[predictor][2]\n",
        "            \n",
        "            if class_0 > class_1:\n",
        "                predictions.append(0)\n",
        "            else:\n",
        "                predictions.append(1)\n",
        "        \n",
        "        return np.array(predictions)"
      ],
      "metadata": {
        "id": "QYQ3ZE4KWSrd"
      },
      "execution_count": 4,
      "outputs": []
    },
    {
      "cell_type": "markdown",
      "source": [
        "# Training and Testing on Diabetes dataset"
      ],
      "metadata": {
        "id": "2c2KdPjRWe7g"
      }
    },
    {
      "cell_type": "code",
      "source": [
        "diabetes_data = pd.read_csv(r'diabetes_data.csv')\n",
        "diabetes_data.head()"
      ],
      "metadata": {
        "colab": {
          "base_uri": "https://localhost:8080/",
          "height": 206
        },
        "id": "hfht4l_QWa31",
        "outputId": "4c7a41d9-a8f5-4bba-faf3-86a99c37cfe1"
      },
      "execution_count": 7,
      "outputs": [
        {
          "output_type": "execute_result",
          "data": {
            "text/html": [
              "<div>\n",
              "<style scoped>\n",
              "    .dataframe tbody tr th:only-of-type {\n",
              "        vertical-align: middle;\n",
              "    }\n",
              "\n",
              "    .dataframe tbody tr th {\n",
              "        vertical-align: top;\n",
              "    }\n",
              "\n",
              "    .dataframe thead th {\n",
              "        text-align: right;\n",
              "    }\n",
              "</style>\n",
              "<table border=\"1\" class=\"dataframe\">\n",
              "  <thead>\n",
              "    <tr style=\"text-align: right;\">\n",
              "      <th></th>\n",
              "      <th>Pregnancies</th>\n",
              "      <th>Glucose</th>\n",
              "      <th>BloodPressure</th>\n",
              "      <th>SkinThickness</th>\n",
              "      <th>Insulin</th>\n",
              "      <th>BMI</th>\n",
              "      <th>DiabetesPedigreeFunction</th>\n",
              "      <th>Age</th>\n",
              "      <th>Outcome</th>\n",
              "    </tr>\n",
              "  </thead>\n",
              "  <tbody>\n",
              "    <tr>\n",
              "      <th>0</th>\n",
              "      <td>6</td>\n",
              "      <td>148</td>\n",
              "      <td>72</td>\n",
              "      <td>35</td>\n",
              "      <td>0</td>\n",
              "      <td>33.6</td>\n",
              "      <td>0.627</td>\n",
              "      <td>50</td>\n",
              "      <td>1</td>\n",
              "    </tr>\n",
              "    <tr>\n",
              "      <th>1</th>\n",
              "      <td>1</td>\n",
              "      <td>85</td>\n",
              "      <td>66</td>\n",
              "      <td>29</td>\n",
              "      <td>0</td>\n",
              "      <td>26.6</td>\n",
              "      <td>0.351</td>\n",
              "      <td>31</td>\n",
              "      <td>0</td>\n",
              "    </tr>\n",
              "    <tr>\n",
              "      <th>2</th>\n",
              "      <td>8</td>\n",
              "      <td>183</td>\n",
              "      <td>64</td>\n",
              "      <td>0</td>\n",
              "      <td>0</td>\n",
              "      <td>23.3</td>\n",
              "      <td>0.672</td>\n",
              "      <td>32</td>\n",
              "      <td>1</td>\n",
              "    </tr>\n",
              "    <tr>\n",
              "      <th>3</th>\n",
              "      <td>1</td>\n",
              "      <td>89</td>\n",
              "      <td>66</td>\n",
              "      <td>23</td>\n",
              "      <td>94</td>\n",
              "      <td>28.1</td>\n",
              "      <td>0.167</td>\n",
              "      <td>21</td>\n",
              "      <td>0</td>\n",
              "    </tr>\n",
              "    <tr>\n",
              "      <th>4</th>\n",
              "      <td>0</td>\n",
              "      <td>137</td>\n",
              "      <td>40</td>\n",
              "      <td>35</td>\n",
              "      <td>168</td>\n",
              "      <td>43.1</td>\n",
              "      <td>2.288</td>\n",
              "      <td>33</td>\n",
              "      <td>1</td>\n",
              "    </tr>\n",
              "  </tbody>\n",
              "</table>\n",
              "</div>"
            ],
            "text/plain": [
              "   Pregnancies  Glucose  BloodPressure  ...  DiabetesPedigreeFunction  Age  Outcome\n",
              "0            6      148             72  ...                     0.627   50        1\n",
              "1            1       85             66  ...                     0.351   31        0\n",
              "2            8      183             64  ...                     0.672   32        1\n",
              "3            1       89             66  ...                     0.167   21        0\n",
              "4            0      137             40  ...                     2.288   33        1\n",
              "\n",
              "[5 rows x 9 columns]"
            ]
          },
          "metadata": {},
          "execution_count": 7
        }
      ]
    },
    {
      "cell_type": "code",
      "source": [
        "!wget https://raw.githubusercontent.com/veb-101/Machine-Learning-Algorithms/master/datasets/diabetes_data.csv"
      ],
      "metadata": {
        "colab": {
          "base_uri": "https://localhost:8080/"
        },
        "id": "Cdgh3Ql7Wjz7",
        "outputId": "29d11408-db42-41f7-ea95-4f7d2e7d2b4d"
      },
      "execution_count": 6,
      "outputs": [
        {
          "output_type": "stream",
          "name": "stdout",
          "text": [
            "--2021-12-11 07:19:34--  https://raw.githubusercontent.com/veb-101/Machine-Learning-Algorithms/master/datasets/diabetes_data.csv\n",
            "Resolving raw.githubusercontent.com (raw.githubusercontent.com)... 185.199.108.133, 185.199.109.133, 185.199.110.133, ...\n",
            "Connecting to raw.githubusercontent.com (raw.githubusercontent.com)|185.199.108.133|:443... connected.\n",
            "HTTP request sent, awaiting response... 200 OK\n",
            "Length: 25852 (25K) [text/plain]\n",
            "Saving to: ‘diabetes_data.csv’\n",
            "\n",
            "\rdiabetes_data.csv     0%[                    ]       0  --.-KB/s               \rdiabetes_data.csv   100%[===================>]  25.25K  --.-KB/s    in 0s      \n",
            "\n",
            "2021-12-11 07:19:35 (109 MB/s) - ‘diabetes_data.csv’ saved [25852/25852]\n",
            "\n"
          ]
        }
      ]
    },
    {
      "cell_type": "code",
      "source": [
        "X = diabetes_data[diabetes_data.columns[:-1]].values\n",
        "y = diabetes_data[diabetes_data.columns[-1]].values\n",
        "\n",
        "\n",
        "X_train, X_test, y_train, y_test = train_test_split(X, y, test_size=0.2, stratify=y, random_state=42)"
      ],
      "metadata": {
        "id": "mCNlexGRXIGa"
      },
      "execution_count": 8,
      "outputs": []
    },
    {
      "cell_type": "code",
      "source": [
        "ada_clf = AdaBoost(base_estimator=Logistic_Regression(learning_rate=0.001, epochs=500),\n",
        "                  n_estimators=10, learning_rate=0.5)"
      ],
      "metadata": {
        "id": "t3UbTCFkXTYQ"
      },
      "execution_count": 9,
      "outputs": []
    },
    {
      "cell_type": "code",
      "source": [
        "ada_clf.fit(X_train, y_train)\n",
        "y_pred = ada_clf.predict(X_train)\n",
        "print(f\"Training Accuracy: {round(accuracy(y_train, y_pred), 2)}\")\n",
        "\n",
        "y_pred = ada_clf.predict(X_test)\n",
        "print(f\"Validation Accuracy: {round(accuracy(y_test, y_pred), 2)}\")"
      ],
      "metadata": {
        "colab": {
          "base_uri": "https://localhost:8080/"
        },
        "id": "SF6BM_uZXY2I",
        "outputId": "df01e6d9-8349-4c80-8759-21e9bf5aa230"
      },
      "execution_count": 10,
      "outputs": [
        {
          "output_type": "stream",
          "name": "stdout",
          "text": [
            "Training Accuracy: 0.68\n",
            "Validation Accuracy: 0.65\n"
          ]
        }
      ]
    },
    {
      "cell_type": "markdown",
      "source": [
        "# Metrics"
      ],
      "metadata": {
        "id": "NDTKmrT9Xh0H"
      }
    },
    {
      "cell_type": "code",
      "source": [
        "# Metrics\n",
        "from sklearn.metrics import precision_score, recall_score, f1_score\n"
      ],
      "metadata": {
        "id": "s-tboL0eXboQ"
      },
      "execution_count": 11,
      "outputs": []
    },
    {
      "cell_type": "code",
      "source": [
        "print(f\"Model Precision: {precision_score(y_test, y_pred)}\")\n",
        "print(f\"Model Recall: {recall_score(y_test, y_pred)}\")\n",
        "print(f\"Model F1-score: {f1_score(y_test, y_pred)}\")"
      ],
      "metadata": {
        "colab": {
          "base_uri": "https://localhost:8080/"
        },
        "id": "tpWXyU-tXnLt",
        "outputId": "1bc7ef93-d9bd-4299-8dde-b437ce9e8f54"
      },
      "execution_count": 12,
      "outputs": [
        {
          "output_type": "stream",
          "name": "stdout",
          "text": [
            "Model Precision: 0.5\n",
            "Model Recall: 0.14814814814814814\n",
            "Model F1-score: 0.22857142857142856\n"
          ]
        }
      ]
    },
    {
      "cell_type": "code",
      "source": [
        "# roc curve \n",
        "from sklearn.metrics import roc_curve\n",
        "\n",
        "fpr, tpr, thresholdsh = roc_curve(y_test, y_pred)"
      ],
      "metadata": {
        "id": "O1l9HZ5EXp65"
      },
      "execution_count": 13,
      "outputs": []
    },
    {
      "cell_type": "code",
      "source": [
        "def plot_roc_curve(fpr, tpr, label=None):\n",
        "    plt.plot(fpr, tpr, linewidth=2, label=label)\n",
        "    plt.plot([0, 1], [0, 1], 'k--')\n",
        "    plt.axis([0, 1, 0, 1])\n",
        "    plt.xlabel('False Positive Rate (Fall-Out)', fontsize=16)\n",
        "    plt.ylabel('True Positive Rate (Recall)', fontsize=16)\n",
        "    plt.grid(True)\n",
        "\n",
        "plt.figure(figsize=(8, 6))\n",
        "plot_roc_curve(fpr, tpr)"
      ],
      "metadata": {
        "colab": {
          "base_uri": "https://localhost:8080/",
          "height": 397
        },
        "id": "QKI0j8eoXtET",
        "outputId": "61363d99-28f2-4516-bc58-25170c935b74"
      },
      "execution_count": 14,
      "outputs": [
        {
          "output_type": "display_data",
          "data": {
            "image/png": "[encoded data removed]",
            "text/plain": [
              "<Figure size 576x432 with 1 Axes>"
            ]
          },
          "metadata": {
            "needs_background": "light"
          }
        }
      ]
    },
    {
      "cell_type": "code",
      "source": [
        "from sklearn.metrics import roc_auc_score\n",
        "\n",
        "roc_auc_score(y_test, y_pred)"
      ],
      "metadata": {
        "colab": {
          "base_uri": "https://localhost:8080/"
        },
        "id": "NmyjieP2XvmF",
        "outputId": "ccd00882-21d4-49fb-ba86-ae236803a834"
      },
      "execution_count": 15,
      "outputs": [
        {
          "output_type": "execute_result",
          "data": {
            "text/plain": [
              "0.534074074074074"
            ]
          },
          "metadata": {},
          "execution_count": 15
        }
      ]
    },
    {
      "cell_type": "code",
      "source": [
        ""
      ],
      "metadata": {
        "id": "BkxWQLgDXzdi"
      },
      "execution_count": null,
      "outputs": []
    }
  ]
}