{
  "nbformat": 4,
  "nbformat_minor": 0,
  "metadata": {
    "colab": {
      "name": "kmeans-from-scratch",
      "provenance": [],
      "collapsed_sections": []
    },
    "kernelspec": {
      "name": "python3",
      "display_name": "Python 3"
    },
    "language_info": {
      "name": "python"
    }
  },
  "cells": [
    {
      "cell_type": "code",
      "metadata": {
        "colab": {
          "base_uri": "https://localhost:8080/"
        },
        "id": "gwicmSryiXD6",
        "outputId": "4af1892a-7d4b-4e89-bcb5-214600869963"
      },
      "source": [
        "from google.colab import drive \n",
        "drive.mount('/content/gdrive')"
      ],
      "execution_count": null,
      "outputs": [
        {
          "output_type": "stream",
          "name": "stdout",
          "text": [
            "Mounted at /content/gdrive\n"
          ]
        }
      ]
    },
    {
      "cell_type": "markdown",
      "metadata": {
        "id": "gwBoGGZfip9S"
      },
      "source": [
        "\n",
        "## **Dataset - Yelp Restaurants**\n",
        "\n",
        "About - From the Business Objects, I tried to find food related areas in Portland city. These are characterized by closeness and similarity of restaurants. Used the \"longitude\" and \"latitude\" to cluster closeness. Used \"categories\" to cluster for similarity.\n",
        "\n",
        "Found clusters using the kmeans.\n",
        "* **K-Means from scratch**\n"
      ]
    },
    {
      "cell_type": "code",
      "metadata": {
        "colab": {
          "base_uri": "https://localhost:8080/",
          "height": 204
        },
        "id": "nhzWK5ekaD_8",
        "outputId": "23cb8250-2202-48cd-b1a0-8113e7d6bc21"
      },
      "source": [
        "import json\n",
        "import pandas as pd\n",
        "from sklearn.cluster import KMeans\n",
        "import numpy as np\n",
        "import scipy as sp\n",
        "import matplotlib.pyplot as plt\n",
        "import sklearn.datasets as sk_data\n",
        "import sklearn.metrics as metrics\n",
        "from sklearn.mixture import GaussianMixture as GMM\n",
        "import seaborn as sns\n",
        "from sklearn.manifold import MDS\n",
        "from matplotlib import pyplot\n",
        "from sklearn.feature_extraction.text import CountVectorizer\n",
        "from nltk.stem import SnowballStemmer\n",
        "from collections import OrderedDict\n",
        "from scipy.cluster.hierarchy import fcluster,dendrogram, linkage, cophenet\n",
        "from sklearn import mixture\n",
        "from scipy.spatial.distance import pdist\n",
        "%matplotlib inline\n",
        "\n",
        "# Data Preparation \n",
        "\n",
        "#1 dropping records those don’t have restaurants related information  \n",
        "\n",
        "def extract(obj):\n",
        "    ob = json.loads(obj)\n",
        "    for key, value in list(ob.items()):\n",
        "        if value and (key == 'categories'):\n",
        "            if ('Restaurants' not in value):\n",
        "                del ob[key]\n",
        "            else:\n",
        "                ob[key] = value #','.join(value)  \n",
        "    return ob\n",
        "\n",
        "#2 stemming process\n",
        "\n",
        "def process(data):\n",
        "    return \" \".join([SnowballStemmer('english').stem(word) for word in data])\n",
        "\n",
        "def convert(j):\n",
        "    for i in t15:\n",
        "        if(i == j):\n",
        "            return(t15.index(i)+1)\n",
        "\n",
        "def appending(j):\n",
        "    if j in t15:\n",
        "        c.append(j)\n",
        "\n",
        "#3 Generate Elbow chart to calculating k(identify number of cluster)        \n",
        "def evaluate_clusters(final_df,max_clusters):\n",
        "    error = np.zeros(max_clusters+1)\n",
        "    error[0] = 0;\n",
        "    for k in range(1,max_clusters+1):\n",
        "        kmeans = KMeans(init='k-means++', n_clusters=k, n_init=10)\n",
        "        kmeans.fit_predict(final_df)\n",
        "        error[k] = kmeans.inertia_\n",
        "    plt.figure(1)\n",
        "    plt.plot(range(1,len(error)),error[1:])\n",
        "    plt.xlabel('Number of clusters')\n",
        "    plt.ylabel('Error')\n",
        "        \n",
        "df = pd.DataFrame([extract(obj)for obj in open('/content/gdrive/MyDrive/datasets/yelp_academic_dataset_business.json')])\n",
        "\n",
        "#4 Creating dataframe having 4 cols 'latitude', 'longitude', 'city', 'categories'\n",
        "final_df = df[['latitude','longitude','city','categories']]\n",
        "\n",
        "#5 Filter records for portland city\n",
        "final_df = final_df.loc[final_df['city'] == 'Portland']\n",
        "\n",
        "final_df = final_df[['latitude','longitude','categories']]\n",
        "\n",
        "#6 Dropping null/none records\n",
        "final_df = final_df.dropna(subset=['categories'])\n",
        "final_df[['latitude','longitude']] = (final_df[['latitude','longitude']].sub(final_df[['latitude','longitude']].mean())).divide(final_df[['latitude','longitude']].std())\n",
        "\n",
        "final_df.head()"
      ],
      "execution_count": null,
      "outputs": [
        {
          "output_type": "execute_result",
          "data": {
            "text/html": [
              "<div>\n",
              "<style scoped>\n",
              "    .dataframe tbody tr th:only-of-type {\n",
              "        vertical-align: middle;\n",
              "    }\n",
              "\n",
              "    .dataframe tbody tr th {\n",
              "        vertical-align: top;\n",
              "    }\n",
              "\n",
              "    .dataframe thead th {\n",
              "        text-align: right;\n",
              "    }\n",
              "</style>\n",
              "<table border=\"1\" class=\"dataframe\">\n",
              "  <thead>\n",
              "    <tr style=\"text-align: right;\">\n",
              "      <th></th>\n",
              "      <th>latitude</th>\n",
              "      <th>longitude</th>\n",
              "      <th>categories</th>\n",
              "    </tr>\n",
              "  </thead>\n",
              "  <tbody>\n",
              "    <tr>\n",
              "      <th>1</th>\n",
              "      <td>2.050340</td>\n",
              "      <td>1.024026</td>\n",
              "      <td>Salad, Soup, Sandwiches, Delis, Restaurants, C...</td>\n",
              "    </tr>\n",
              "    <tr>\n",
              "      <th>36</th>\n",
              "      <td>0.149673</td>\n",
              "      <td>2.013940</td>\n",
              "      <td>Nightlife, Sandwiches, Seafood, Restaurants</td>\n",
              "    </tr>\n",
              "    <tr>\n",
              "      <th>50</th>\n",
              "      <td>-0.094558</td>\n",
              "      <td>-0.382013</td>\n",
              "      <td>Vegetarian, Vegan, Sandwiches, Soup, American ...</td>\n",
              "    </tr>\n",
              "    <tr>\n",
              "      <th>93</th>\n",
              "      <td>-0.161807</td>\n",
              "      <td>0.952418</td>\n",
              "      <td>Food Stands, Restaurants, Sandwiches</td>\n",
              "    </tr>\n",
              "    <tr>\n",
              "      <th>94</th>\n",
              "      <td>0.046193</td>\n",
              "      <td>-0.731567</td>\n",
              "      <td>Restaurants, Food, Sandwiches, Breakfast &amp; Bru...</td>\n",
              "    </tr>\n",
              "  </tbody>\n",
              "</table>\n",
              "</div>"
            ],
            "text/plain": [
              "    latitude  longitude                                         categories\n",
              "1   2.050340   1.024026  Salad, Soup, Sandwiches, Delis, Restaurants, C...\n",
              "36  0.149673   2.013940        Nightlife, Sandwiches, Seafood, Restaurants\n",
              "50 -0.094558  -0.382013  Vegetarian, Vegan, Sandwiches, Soup, American ...\n",
              "93 -0.161807   0.952418               Food Stands, Restaurants, Sandwiches\n",
              "94  0.046193  -0.731567  Restaurants, Food, Sandwiches, Breakfast & Bru..."
            ]
          },
          "metadata": {},
          "execution_count": 3
        }
      ]
    },
    {
      "cell_type": "markdown",
      "metadata": {
        "id": "up1VvFLfi3VD"
      },
      "source": [
        "I parsed the data from the json file to a pandas dataframe. The final dataframe used for clustering has a total of 17 columns. Two of which are latitude and longitude and the remaining 15 are the columns of top15 categories of Restaurants in Portland city. If a category is present for a restaurant then its value for that column is 1.0 or else 0.I performed feature scaling on latitude and longitude by subtracting the mean of the entire column from each value and then dividing by the standard deviation (Also known as Z-score), thus scaling down the location to the range of categories."
      ]
    },
    {
      "cell_type": "code",
      "metadata": {
        "colab": {
          "base_uri": "https://localhost:8080/",
          "height": 639
        },
        "id": "bMf8qpzpiCZe",
        "outputId": "78ae38ee-d052-436f-f149-5779ec25db0c"
      },
      "source": [
        "top15_df = final_df.copy()\n",
        "cat_list = final_df['categories'].tolist()\n",
        "x = []\n",
        "for i in cat_list:\n",
        "     x += [i.split(',')]\n",
        "\n",
        "\n",
        "count={}\n",
        "for i in x:\n",
        "    for j in i:\n",
        "        if j not in count:\n",
        "            count[j]=1\n",
        "        else:\n",
        "            count[j] = count[j] +1\n",
        "top15_names=[]\n",
        "od = OrderedDict(sorted(count.items(), key=lambda kv:kv[1], reverse=True))    \n",
        "t15 = list(od)[1:16] # Eliminating Restaurants\n",
        "top15_names = t15\n",
        "t15_counts = list(od.values())[1:16]\n",
        "trimmed_list = []\n",
        "unwanted = []\n",
        "c =[]\n",
        "\n",
        "for i in final_df['categories']:\n",
        "    row = i.split(',')\n",
        "    c += [[convert(j) for j in row if j in t15]]\n",
        "    #c += [[ j for j in row if j in t15]]\n",
        "    \n",
        "    #trimmed_list.append(row)\n",
        "#print(c)\n",
        "top15_df['categories'] = c\n",
        "top15_df = top15_df.reset_index(drop = True)\n",
        "a = np.zeros(shape=(len(top15_df['categories']),15))\n",
        "i=0\n",
        "for j in c:\n",
        "    for k in j:\n",
        "        a[i,(k-1)] = 1\n",
        "    i+=1\n",
        "t15= pd.DataFrame.from_records(a)\n",
        "t15[['latitude','longitude']] = top15_df[['latitude','longitude']]\n",
        "\n",
        "# Plot Elbow curve\n",
        "evaluate_clusters(t15,10) #evaluates error versus number of clusters\n"
      ],
      "execution_count": null,
      "outputs": [
        {
          "output_type": "stream",
          "name": "stderr",
          "text": [
            "/usr/local/lib/python3.7/dist-packages/sklearn/utils/validation.py:1679: FutureWarning: Feature names only support names that are all strings. Got feature names with dtypes: ['int', 'str']. An error will be raised in 1.2.\n",
            "  FutureWarning,\n",
            "/usr/local/lib/python3.7/dist-packages/sklearn/utils/validation.py:1679: FutureWarning: Feature names only support names that are all strings. Got feature names with dtypes: ['int', 'str']. An error will be raised in 1.2.\n",
            "  FutureWarning,\n",
            "/usr/local/lib/python3.7/dist-packages/sklearn/utils/validation.py:1679: FutureWarning: Feature names only support names that are all strings. Got feature names with dtypes: ['int', 'str']. An error will be raised in 1.2.\n",
            "  FutureWarning,\n",
            "/usr/local/lib/python3.7/dist-packages/sklearn/utils/validation.py:1679: FutureWarning: Feature names only support names that are all strings. Got feature names with dtypes: ['int', 'str']. An error will be raised in 1.2.\n",
            "  FutureWarning,\n",
            "/usr/local/lib/python3.7/dist-packages/sklearn/utils/validation.py:1679: FutureWarning: Feature names only support names that are all strings. Got feature names with dtypes: ['int', 'str']. An error will be raised in 1.2.\n",
            "  FutureWarning,\n",
            "/usr/local/lib/python3.7/dist-packages/sklearn/utils/validation.py:1679: FutureWarning: Feature names only support names that are all strings. Got feature names with dtypes: ['int', 'str']. An error will be raised in 1.2.\n",
            "  FutureWarning,\n",
            "/usr/local/lib/python3.7/dist-packages/sklearn/utils/validation.py:1679: FutureWarning: Feature names only support names that are all strings. Got feature names with dtypes: ['int', 'str']. An error will be raised in 1.2.\n",
            "  FutureWarning,\n",
            "/usr/local/lib/python3.7/dist-packages/sklearn/utils/validation.py:1679: FutureWarning: Feature names only support names that are all strings. Got feature names with dtypes: ['int', 'str']. An error will be raised in 1.2.\n",
            "  FutureWarning,\n",
            "/usr/local/lib/python3.7/dist-packages/sklearn/utils/validation.py:1679: FutureWarning: Feature names only support names that are all strings. Got feature names with dtypes: ['int', 'str']. An error will be raised in 1.2.\n",
            "  FutureWarning,\n",
            "/usr/local/lib/python3.7/dist-packages/sklearn/utils/validation.py:1679: FutureWarning: Feature names only support names that are all strings. Got feature names with dtypes: ['int', 'str']. An error will be raised in 1.2.\n",
            "  FutureWarning,\n"
          ]
        },
        {
          "output_type": "display_data",
          "data": {
            "image/png": "[encoded data removed]",
            "text/plain": [
              "<Figure size 432x288 with 1 Axes>"
            ]
          },
          "metadata": {
            "needs_background": "light"
          }
        }
      ]
    },
    {
      "cell_type": "markdown",
      "metadata": {
        "id": "wNtxse13klyT"
      },
      "source": [
        "## **Implementing K-Means from scratch**"
      ]
    },
    {
      "cell_type": "code",
      "metadata": {
        "id": "7Xmi2XZxuKHI"
      },
      "source": [
        "import pandas as pd\n",
        "import numpy as np\n",
        "import matplotlib.pyplot as plt\n",
        "import seaborn as sns\n",
        "# using the make_blobs dataset\n",
        "from sklearn.datasets import make_blobs\n",
        "X, y = make_blobs(n_samples=100, centers=5, random_state=101)\n",
        "# setting the number of training examples\n",
        "m=X.shape[0]\n",
        "n=X.shape[1] \n",
        "n_iter=50"
      ],
      "execution_count": null,
      "outputs": []
    },
    {
      "cell_type": "code",
      "metadata": {
        "id": "_fdbR7hkvSgu"
      },
      "source": [
        "# computing the initial centroids randomly\n",
        "K=5\n",
        "import random\n",
        "\n",
        "# creating an empty centroid array\n",
        "centroids=np.array([]).reshape(n,0) \n",
        "\n",
        "# creating 5 random centroids\n",
        "for k in range(K):\n",
        "    centroids=np.c_[centroids,X[random.randint(0,m-1)]]"
      ],
      "execution_count": null,
      "outputs": []
    },
    {
      "cell_type": "code",
      "metadata": {
        "id": "E6UlJ5I2uKEb"
      },
      "source": [
        "output={}\n",
        "# creating an empty array\n",
        "euclid=np.array([]).reshape(m,0)\n",
        "\n",
        "# finding distance between for each centroid\n",
        "for k in range(K):\n",
        "       dist=np.sum((X-centroids[:,k])**2,axis=1)\n",
        "       euclid=np.c_[euclid,dist]\n",
        "\n",
        "# storing the minimum value we have computed\n",
        "minimum=np.argmin(euclid,axis=1)+1"
      ],
      "execution_count": null,
      "outputs": []
    },
    {
      "cell_type": "code",
      "metadata": {
        "id": "GZtWzWPEuKB1"
      },
      "source": [
        "# computing the mean of separated clusters\n",
        "cent={}\n",
        "for k in range(K):\n",
        "    cent[k+1]=np.array([]).reshape(2,0)\n",
        "\n",
        "# assigning of clusters to points\n",
        "for k in range(m):\n",
        "    cent[minimum[k]]=np.c_[cent[minimum[k]],X[k]]\n",
        "for k in range(K):\n",
        "    cent[k+1]=cent[k+1].T\n",
        "\n",
        "# computing mean and updating it\n",
        "for k in range(K):\n",
        "     centroids[:,k]=np.mean(cent[k+1],axis=0)"
      ],
      "execution_count": null,
      "outputs": []
    },
    {
      "cell_type": "code",
      "metadata": {
        "id": "QtMMs7czuJ_D"
      },
      "source": [
        "# repeating the above steps again and again\n",
        "for i in range(n_iter):\n",
        "      euclid=np.array([]).reshape(m,0)\n",
        "      for k in range(K):\n",
        "          dist=np.sum((X-centroids[:,k])**2,axis=1)\n",
        "          euclid=np.c_[euclid,dist]\n",
        "      C=np.argmin(euclid,axis=1)+1\n",
        "      cent={}\n",
        "      for k in range(K):\n",
        "           cent[k+1]=np.array([]).reshape(2,0)\n",
        "      for k in range(m):\n",
        "           cent[C[k]]=np.c_[cent[C[k]],X[k]]\n",
        "      for k in range(K):\n",
        "           cent[k+1]=cent[k+1].T\n",
        "      for k in range(K):\n",
        "           centroids[:,k]=np.mean(cent[k+1],axis=0)\n",
        "      final=cent"
      ],
      "execution_count": null,
      "outputs": []
    },
    {
      "cell_type": "code",
      "metadata": {
        "colab": {
          "base_uri": "https://localhost:8080/",
          "height": 298
        },
        "id": "Qi-mlZz2uJ8f",
        "outputId": "b80d0bd5-a94b-45a9-bc82-4f7edbe7659b"
      },
      "source": [
        "plt.scatter(X[:,0],X[:,1])\n",
        "plt.rcParams.update({'figure.figsize':(10,7.5), 'figure.dpi':100})\n",
        "plt.title('Original Dataset')"
      ],
      "execution_count": null,
      "outputs": [
        {
          "output_type": "execute_result",
          "data": {
            "text/plain": [
              "Text(0.5, 1.0, 'Original Dataset')"
            ]
          },
          "metadata": {},
          "execution_count": 22
        },
        {
          "output_type": "display_data",
          "data": {
            "image/png": "[encoded data removed]",
            "text/plain": [
              "<Figure size 432x288 with 1 Axes>"
            ]
          },
          "metadata": {
            "needs_background": "light"
          }
        }
      ]
    },
    {
      "cell_type": "code",
      "metadata": {
        "colab": {
          "base_uri": "https://localhost:8080/",
          "height": 626
        },
        "id": "pUemEsGluJ53",
        "outputId": "6eaa9b5b-befc-429c-9938-0e1309b1f196"
      },
      "source": [
        "for k in range(K):\n",
        "    plt.scatter(final[k+1][:,0],final[k+1][:,1])\n",
        "plt.scatter(centroids[0,:],centroids[1,:],s=300,c='yellow')\n",
        "plt.rcParams.update({'figure.figsize':(10,7.5), 'figure.dpi':100})\n",
        "plt.show()"
      ],
      "execution_count": null,
      "outputs": [
        {
          "output_type": "display_data",
          "data": {
            "image/png": "[encoded data removed]",
            "text/plain": [
              "<Figure size 1000x750 with 1 Axes>"
            ]
          },
          "metadata": {
            "needs_background": "light"
          }
        }
      ]
    },
    {
      "cell_type": "markdown",
      "metadata": {
        "id": "_eT2rixXjE3l"
      },
      "source": [
        "# **Comments**\n",
        "\n",
        "I used complete link method for heirarchical clustering i.e finding the distance between the two points farthest from each other in order to combine clusters during the agglomerative clustering method. \n",
        "\n",
        "Performed GMM using co-variance as 'spherical' so that each component has its own single variance.\n",
        "\n",
        "\n",
        "I calculated the ratio of each category present in the cluster with the total number of restaurants in Portland city of that category. And then selected the category having a maximum ratio as the label for that particular cluster. Thus, avoiding dominance by a particular category having large number of restaurants. Below is the interpretation of the results of the methods used.\n",
        "\n",
        "**K-means**: K-means has more well-defined clusters because it does hard-clustering i.e. each point belongs to one and only one cluster. also, since the function used is kmeans, the initial points are calculated based on a probability function.\n",
        "\n",
        "**Hierarchical**: Since it considers each point as a cluster on its own and then combines the points on the basis of distance between the points. It gives a result which varies quite a lot from the K-means method since it does not use any random points.\n",
        "\n",
        "**Gaussian Mixture Model**: GMM uses soft-clustering and hence has overlapping clusters.It calculates the probability of a point belonging to each cluster and hence is more likely to give better clustering. It gives clustering similar to K-means but with some overlapping points.\n",
        "\n",
        "**DBSCAN**: **DBSCAN** fits the model on the training dataset and predicts a cluster for each example in the dataset. A scatter plot is then created with points colored by their assigned cluster.\n"
      ]
    },
    {
      "cell_type": "code",
      "metadata": {
        "id": "2RC9LMHPsuYP"
      },
      "source": [
        ""
      ],
      "execution_count": null,
      "outputs": []
    }
  ]
}